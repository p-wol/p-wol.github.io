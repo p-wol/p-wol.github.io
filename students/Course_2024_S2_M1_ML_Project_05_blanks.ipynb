{
 "cells": [
  {
   "cell_type": "code",
   "execution_count": 1,
   "id": "4a65232e",
   "metadata": {},
   "outputs": [],
   "source": [
    "import os\n",
    "import copy\n",
    "import numpy as np\n",
    "import scipy\n",
    "import pandas\n",
    "import polars as pl\n",
    "import matplotlib.pyplot as plt\n",
    "from sklearn.model_selection import train_test_split"
   ]
  },
  {
   "cell_type": "markdown",
   "id": "eaa62c55",
   "metadata": {},
   "source": [
    "# Introduction to Linear Discriminant Analysis (LDA)"
   ]
  },
  {
   "cell_type": "markdown",
   "id": "8f91195b",
   "metadata": {},
   "source": [
    "Dataset: breast cancer"
   ]
  },
  {
   "cell_type": "markdown",
   "id": "60724e74",
   "metadata": {},
   "source": [
    "## Load data"
   ]
  },
  {
   "cell_type": "code",
   "execution_count": 2,
   "id": "944429f8",
   "metadata": {},
   "outputs": [
    {
     "data": {
      "text/html": [
       "<div><style>\n",
       ".dataframe > thead > tr,\n",
       ".dataframe > tbody > tr {\n",
       "  text-align: right;\n",
       "  white-space: pre-wrap;\n",
       "}\n",
       "</style>\n",
       "<small>shape: (569, 32)</small><table border=\"1\" class=\"dataframe\"><thead><tr><th>id</th><th>diagnosis</th><th>radius_mean</th><th>texture_mean</th><th>perimeter_mean</th><th>area_mean</th><th>smoothness_mean</th><th>compactness_mean</th><th>concavity_mean</th><th>concave points_mean</th><th>symmetry_mean</th><th>fractal_dimension_mean</th><th>radius_se</th><th>texture_se</th><th>perimeter_se</th><th>area_se</th><th>smoothness_se</th><th>compactness_se</th><th>concavity_se</th><th>concave points_se</th><th>symmetry_se</th><th>fractal_dimension_se</th><th>radius_worst</th><th>texture_worst</th><th>perimeter_worst</th><th>area_worst</th><th>smoothness_worst</th><th>compactness_worst</th><th>concavity_worst</th><th>concave points_worst</th><th>symmetry_worst</th><th>fractal_dimension_worst</th></tr><tr><td>i64</td><td>str</td><td>f64</td><td>f64</td><td>f64</td><td>f64</td><td>f64</td><td>f64</td><td>f64</td><td>f64</td><td>f64</td><td>f64</td><td>f64</td><td>f64</td><td>f64</td><td>f64</td><td>f64</td><td>f64</td><td>f64</td><td>f64</td><td>f64</td><td>f64</td><td>f64</td><td>f64</td><td>f64</td><td>f64</td><td>f64</td><td>f64</td><td>f64</td><td>f64</td><td>f64</td><td>f64</td></tr></thead><tbody><tr><td>842302</td><td>&quot;M&quot;</td><td>17.99</td><td>10.38</td><td>122.8</td><td>1001.0</td><td>0.1184</td><td>0.2776</td><td>0.3001</td><td>0.1471</td><td>0.2419</td><td>0.07871</td><td>1.095</td><td>0.9053</td><td>8.589</td><td>153.4</td><td>0.006399</td><td>0.04904</td><td>0.05373</td><td>0.01587</td><td>0.03003</td><td>0.006193</td><td>25.38</td><td>17.33</td><td>184.6</td><td>2019.0</td><td>0.1622</td><td>0.6656</td><td>0.7119</td><td>0.2654</td><td>0.4601</td><td>0.1189</td></tr><tr><td>842517</td><td>&quot;M&quot;</td><td>20.57</td><td>17.77</td><td>132.9</td><td>1326.0</td><td>0.08474</td><td>0.07864</td><td>0.0869</td><td>0.07017</td><td>0.1812</td><td>0.05667</td><td>0.5435</td><td>0.7339</td><td>3.398</td><td>74.08</td><td>0.005225</td><td>0.01308</td><td>0.0186</td><td>0.0134</td><td>0.01389</td><td>0.003532</td><td>24.99</td><td>23.41</td><td>158.8</td><td>1956.0</td><td>0.1238</td><td>0.1866</td><td>0.2416</td><td>0.186</td><td>0.275</td><td>0.08902</td></tr><tr><td>84300903</td><td>&quot;M&quot;</td><td>19.69</td><td>21.25</td><td>130.0</td><td>1203.0</td><td>0.1096</td><td>0.1599</td><td>0.1974</td><td>0.1279</td><td>0.2069</td><td>0.05999</td><td>0.7456</td><td>0.7869</td><td>4.585</td><td>94.03</td><td>0.00615</td><td>0.04006</td><td>0.03832</td><td>0.02058</td><td>0.0225</td><td>0.004571</td><td>23.57</td><td>25.53</td><td>152.5</td><td>1709.0</td><td>0.1444</td><td>0.4245</td><td>0.4504</td><td>0.243</td><td>0.3613</td><td>0.08758</td></tr><tr><td>84348301</td><td>&quot;M&quot;</td><td>11.42</td><td>20.38</td><td>77.58</td><td>386.1</td><td>0.1425</td><td>0.2839</td><td>0.2414</td><td>0.1052</td><td>0.2597</td><td>0.09744</td><td>0.4956</td><td>1.156</td><td>3.445</td><td>27.23</td><td>0.00911</td><td>0.07458</td><td>0.05661</td><td>0.01867</td><td>0.05963</td><td>0.009208</td><td>14.91</td><td>26.5</td><td>98.87</td><td>567.7</td><td>0.2098</td><td>0.8663</td><td>0.6869</td><td>0.2575</td><td>0.6638</td><td>0.173</td></tr><tr><td>84358402</td><td>&quot;M&quot;</td><td>20.29</td><td>14.34</td><td>135.1</td><td>1297.0</td><td>0.1003</td><td>0.1328</td><td>0.198</td><td>0.1043</td><td>0.1809</td><td>0.05883</td><td>0.7572</td><td>0.7813</td><td>5.438</td><td>94.44</td><td>0.01149</td><td>0.02461</td><td>0.05688</td><td>0.01885</td><td>0.01756</td><td>0.005115</td><td>22.54</td><td>16.67</td><td>152.2</td><td>1575.0</td><td>0.1374</td><td>0.205</td><td>0.4</td><td>0.1625</td><td>0.2364</td><td>0.07678</td></tr><tr><td>&hellip;</td><td>&hellip;</td><td>&hellip;</td><td>&hellip;</td><td>&hellip;</td><td>&hellip;</td><td>&hellip;</td><td>&hellip;</td><td>&hellip;</td><td>&hellip;</td><td>&hellip;</td><td>&hellip;</td><td>&hellip;</td><td>&hellip;</td><td>&hellip;</td><td>&hellip;</td><td>&hellip;</td><td>&hellip;</td><td>&hellip;</td><td>&hellip;</td><td>&hellip;</td><td>&hellip;</td><td>&hellip;</td><td>&hellip;</td><td>&hellip;</td><td>&hellip;</td><td>&hellip;</td><td>&hellip;</td><td>&hellip;</td><td>&hellip;</td><td>&hellip;</td><td>&hellip;</td></tr><tr><td>926424</td><td>&quot;M&quot;</td><td>21.56</td><td>22.39</td><td>142.0</td><td>1479.0</td><td>0.111</td><td>0.1159</td><td>0.2439</td><td>0.1389</td><td>0.1726</td><td>0.05623</td><td>1.176</td><td>1.256</td><td>7.673</td><td>158.7</td><td>0.0103</td><td>0.02891</td><td>0.05198</td><td>0.02454</td><td>0.01114</td><td>0.004239</td><td>25.45</td><td>26.4</td><td>166.1</td><td>2027.0</td><td>0.141</td><td>0.2113</td><td>0.4107</td><td>0.2216</td><td>0.206</td><td>0.07115</td></tr><tr><td>926682</td><td>&quot;M&quot;</td><td>20.13</td><td>28.25</td><td>131.2</td><td>1261.0</td><td>0.0978</td><td>0.1034</td><td>0.144</td><td>0.09791</td><td>0.1752</td><td>0.05533</td><td>0.7655</td><td>2.463</td><td>5.203</td><td>99.04</td><td>0.005769</td><td>0.02423</td><td>0.0395</td><td>0.01678</td><td>0.01898</td><td>0.002498</td><td>23.69</td><td>38.25</td><td>155.0</td><td>1731.0</td><td>0.1166</td><td>0.1922</td><td>0.3215</td><td>0.1628</td><td>0.2572</td><td>0.06637</td></tr><tr><td>926954</td><td>&quot;M&quot;</td><td>16.6</td><td>28.08</td><td>108.3</td><td>858.1</td><td>0.08455</td><td>0.1023</td><td>0.09251</td><td>0.05302</td><td>0.159</td><td>0.05648</td><td>0.4564</td><td>1.075</td><td>3.425</td><td>48.55</td><td>0.005903</td><td>0.03731</td><td>0.0473</td><td>0.01557</td><td>0.01318</td><td>0.003892</td><td>18.98</td><td>34.12</td><td>126.7</td><td>1124.0</td><td>0.1139</td><td>0.3094</td><td>0.3403</td><td>0.1418</td><td>0.2218</td><td>0.0782</td></tr><tr><td>927241</td><td>&quot;M&quot;</td><td>20.6</td><td>29.33</td><td>140.1</td><td>1265.0</td><td>0.1178</td><td>0.277</td><td>0.3514</td><td>0.152</td><td>0.2397</td><td>0.07016</td><td>0.726</td><td>1.595</td><td>5.772</td><td>86.22</td><td>0.006522</td><td>0.06158</td><td>0.07117</td><td>0.01664</td><td>0.02324</td><td>0.006185</td><td>25.74</td><td>39.42</td><td>184.6</td><td>1821.0</td><td>0.165</td><td>0.8681</td><td>0.9387</td><td>0.265</td><td>0.4087</td><td>0.124</td></tr><tr><td>92751</td><td>&quot;B&quot;</td><td>7.76</td><td>24.54</td><td>47.92</td><td>181.0</td><td>0.05263</td><td>0.04362</td><td>0.0</td><td>0.0</td><td>0.1587</td><td>0.05884</td><td>0.3857</td><td>1.428</td><td>2.548</td><td>19.15</td><td>0.007189</td><td>0.00466</td><td>0.0</td><td>0.0</td><td>0.02676</td><td>0.002783</td><td>9.456</td><td>30.37</td><td>59.16</td><td>268.6</td><td>0.08996</td><td>0.06444</td><td>0.0</td><td>0.0</td><td>0.2871</td><td>0.07039</td></tr></tbody></table></div>"
      ],
      "text/plain": [
       "shape: (569, 32)\n",
       "┌──────────┬───────────┬───────────┬───────────┬───┬───────────┬───────────┬───────────┬───────────┐\n",
       "│ id       ┆ diagnosis ┆ radius_me ┆ texture_m ┆ … ┆ concavity ┆ concave   ┆ symmetry_ ┆ fractal_d │\n",
       "│ ---      ┆ ---       ┆ an        ┆ ean       ┆   ┆ _worst    ┆ points_wo ┆ worst     ┆ imension_ │\n",
       "│ i64      ┆ str       ┆ ---       ┆ ---       ┆   ┆ ---       ┆ rst       ┆ ---       ┆ worst     │\n",
       "│          ┆           ┆ f64       ┆ f64       ┆   ┆ f64       ┆ ---       ┆ f64       ┆ ---       │\n",
       "│          ┆           ┆           ┆           ┆   ┆           ┆ f64       ┆           ┆ f64       │\n",
       "╞══════════╪═══════════╪═══════════╪═══════════╪═══╪═══════════╪═══════════╪═══════════╪═══════════╡\n",
       "│ 842302   ┆ M         ┆ 17.99     ┆ 10.38     ┆ … ┆ 0.7119    ┆ 0.2654    ┆ 0.4601    ┆ 0.1189    │\n",
       "│ 842517   ┆ M         ┆ 20.57     ┆ 17.77     ┆ … ┆ 0.2416    ┆ 0.186     ┆ 0.275     ┆ 0.08902   │\n",
       "│ 84300903 ┆ M         ┆ 19.69     ┆ 21.25     ┆ … ┆ 0.4504    ┆ 0.243     ┆ 0.3613    ┆ 0.08758   │\n",
       "│ 84348301 ┆ M         ┆ 11.42     ┆ 20.38     ┆ … ┆ 0.6869    ┆ 0.2575    ┆ 0.6638    ┆ 0.173     │\n",
       "│ 84358402 ┆ M         ┆ 20.29     ┆ 14.34     ┆ … ┆ 0.4       ┆ 0.1625    ┆ 0.2364    ┆ 0.07678   │\n",
       "│ …        ┆ …         ┆ …         ┆ …         ┆ … ┆ …         ┆ …         ┆ …         ┆ …         │\n",
       "│ 926424   ┆ M         ┆ 21.56     ┆ 22.39     ┆ … ┆ 0.4107    ┆ 0.2216    ┆ 0.206     ┆ 0.07115   │\n",
       "│ 926682   ┆ M         ┆ 20.13     ┆ 28.25     ┆ … ┆ 0.3215    ┆ 0.1628    ┆ 0.2572    ┆ 0.06637   │\n",
       "│ 926954   ┆ M         ┆ 16.6      ┆ 28.08     ┆ … ┆ 0.3403    ┆ 0.1418    ┆ 0.2218    ┆ 0.0782    │\n",
       "│ 927241   ┆ M         ┆ 20.6      ┆ 29.33     ┆ … ┆ 0.9387    ┆ 0.265     ┆ 0.4087    ┆ 0.124     │\n",
       "│ 92751    ┆ B         ┆ 7.76      ┆ 24.54     ┆ … ┆ 0.0       ┆ 0.0       ┆ 0.2871    ┆ 0.07039   │\n",
       "└──────────┴───────────┴───────────┴───────────┴───┴───────────┴───────────┴───────────┴───────────┘"
      ]
     },
     "execution_count": 2,
     "metadata": {},
     "output_type": "execute_result"
    }
   ],
   "source": [
    "df = pl.read_csv(\"breast_cancer.csv\")\n",
    "df"
   ]
  },
  {
   "cell_type": "code",
   "execution_count": 3,
   "id": "dd5b1a7c",
   "metadata": {},
   "outputs": [
    {
     "name": "stdout",
     "output_type": "stream",
     "text": [
      "Columns: ['id', 'diagnosis', 'radius_mean', 'texture_mean', 'perimeter_mean', 'area_mean', 'smoothness_mean', 'compactness_mean', 'concavity_mean', 'concave points_mean', 'symmetry_mean', 'fractal_dimension_mean', 'radius_se', 'texture_se', 'perimeter_se', 'area_se', 'smoothness_se', 'compactness_se', 'concavity_se', 'concave points_se', 'symmetry_se', 'fractal_dimension_se', 'radius_worst', 'texture_worst', 'perimeter_worst', 'area_worst', 'smoothness_worst', 'compactness_worst', 'concavity_worst', 'concave points_worst', 'symmetry_worst', 'fractal_dimension_worst']\n",
      "Classes: ['M', 'B']\n"
     ]
    }
   ],
   "source": [
    "columns = df.columns\n",
    "print(\"Columns:\", columns)\n",
    "\n",
    "target = \"diagnosis\"\n",
    "classes = list(df[target].unique())\n",
    "dct_classes = {k: v for v, k in enumerate(classes)}\n",
    "print(\"Classes:\", classes)\n",
    "\n",
    "# Irrelevant column for classification: \"id\"\n",
    "df = df.drop(\"id\")"
   ]
  },
  {
   "cell_type": "markdown",
   "id": "1b5c375e",
   "metadata": {},
   "source": [
    "## Plot data"
   ]
  },
  {
   "cell_type": "code",
   "execution_count": 4,
   "id": "d38aedc3",
   "metadata": {},
   "outputs": [
    {
     "data": {
      "text/html": [
       "<div><style>\n",
       ".dataframe > thead > tr,\n",
       ".dataframe > tbody > tr {\n",
       "  text-align: right;\n",
       "  white-space: pre-wrap;\n",
       "}\n",
       "</style>\n",
       "<small>shape: (569, 3)</small><table border=\"1\" class=\"dataframe\"><thead><tr><th>radius_mean</th><th>texture_mean</th><th>diagnosis</th></tr><tr><td>f64</td><td>f64</td><td>str</td></tr></thead><tbody><tr><td>17.99</td><td>10.38</td><td>&quot;M&quot;</td></tr><tr><td>20.57</td><td>17.77</td><td>&quot;M&quot;</td></tr><tr><td>19.69</td><td>21.25</td><td>&quot;M&quot;</td></tr><tr><td>11.42</td><td>20.38</td><td>&quot;M&quot;</td></tr><tr><td>20.29</td><td>14.34</td><td>&quot;M&quot;</td></tr><tr><td>&hellip;</td><td>&hellip;</td><td>&hellip;</td></tr><tr><td>21.56</td><td>22.39</td><td>&quot;M&quot;</td></tr><tr><td>20.13</td><td>28.25</td><td>&quot;M&quot;</td></tr><tr><td>16.6</td><td>28.08</td><td>&quot;M&quot;</td></tr><tr><td>20.6</td><td>29.33</td><td>&quot;M&quot;</td></tr><tr><td>7.76</td><td>24.54</td><td>&quot;B&quot;</td></tr></tbody></table></div>"
      ],
      "text/plain": [
       "shape: (569, 3)\n",
       "┌─────────────┬──────────────┬───────────┐\n",
       "│ radius_mean ┆ texture_mean ┆ diagnosis │\n",
       "│ ---         ┆ ---          ┆ ---       │\n",
       "│ f64         ┆ f64          ┆ str       │\n",
       "╞═════════════╪══════════════╪═══════════╡\n",
       "│ 17.99       ┆ 10.38        ┆ M         │\n",
       "│ 20.57       ┆ 17.77        ┆ M         │\n",
       "│ 19.69       ┆ 21.25        ┆ M         │\n",
       "│ 11.42       ┆ 20.38        ┆ M         │\n",
       "│ 20.29       ┆ 14.34        ┆ M         │\n",
       "│ …           ┆ …            ┆ …         │\n",
       "│ 21.56       ┆ 22.39        ┆ M         │\n",
       "│ 20.13       ┆ 28.25        ┆ M         │\n",
       "│ 16.6        ┆ 28.08        ┆ M         │\n",
       "│ 20.6        ┆ 29.33        ┆ M         │\n",
       "│ 7.76        ┆ 24.54        ┆ B         │\n",
       "└─────────────┴──────────────┴───────────┘"
      ]
     },
     "execution_count": 4,
     "metadata": {},
     "output_type": "execute_result"
    }
   ],
   "source": [
    "# select two features\n",
    "features = [\"radius_mean\", \"texture_mean\"]\n",
    "\n",
    "df_mini = df.select(features + [target])\n",
    "df_mini"
   ]
  },
  {
   "cell_type": "code",
   "execution_count": 5,
   "id": "8f8c74d2",
   "metadata": {},
   "outputs": [
    {
     "data": {
      "text/plain": [
       "<matplotlib.legend.Legend at 0x71bf65031490>"
      ]
     },
     "execution_count": 5,
     "metadata": {},
     "output_type": "execute_result"
    },
    {
     "data": {
      "image/png": "[encoded data removed]",
      "text/plain": [
       "<Figure size 640x480 with 1 Axes>"
      ]
     },
     "metadata": {},
     "output_type": "display_data"
    }
   ],
   "source": [
    "for cl in classes:\n",
    "    data = df_mini.filter(pl.col(target) == cl).select(features)\n",
    "    data = data.to_numpy()\n",
    "    plt.scatter(data[:,0], data[:,1], label = cl)\n",
    "    \n",
    "plt.legend()"
   ]
  },
  {
   "cell_type": "markdown",
   "id": "c4dba829",
   "metadata": {},
   "source": [
    "## By-hand: LDA and QDA"
   ]
  },
  {
   "cell_type": "markdown",
   "id": "0e0e85c0",
   "metadata": {},
   "source": [
    "### Two features (mini)"
   ]
  },
  {
   "cell_type": "markdown",
   "id": "20119f57",
   "metadata": {},
   "source": [
    "Select the features and make the train/test split."
   ]
  },
  {
   "cell_type": "code",
   "execution_count": 6,
   "id": "31024db1",
   "metadata": {},
   "outputs": [],
   "source": [
    "K = len(classes)\n",
    "\n",
    "df_train, df_test = train_test_split(df, test_size = .2)\n",
    "\n",
    "Xm = df[features].to_numpy()\n",
    "y = df[target].to_numpy()\n",
    "Xm_train = df_train[features].to_numpy()\n",
    "y_train = df_train[target].to_numpy()\n",
    "Xm_test = df_test[features].to_numpy()\n",
    "y_test = df_test[target].to_numpy()"
   ]
  },
  {
   "cell_type": "markdown",
   "id": "6033d4ec",
   "metadata": {},
   "source": [
    "**Quesion 1**\n",
    "\n",
    "We will perform a LDA. Compute the parameters of the model."
   ]
  },
  {
   "cell_type": "code",
   "execution_count": null,
   "id": "84e2bb3c",
   "metadata": {},
   "outputs": [],
   "source": []
  },
  {
   "cell_type": "markdown",
   "id": "0e00e76f",
   "metadata": {},
   "source": [
    "Contour plots of the Gaussians of the model."
   ]
  },
  {
   "cell_type": "code",
   "execution_count": 7,
   "id": "e75c805c",
   "metadata": {},
   "outputs": [
    {
     "ename": "NameError",
     "evalue": "name 'lst_X_means' is not defined",
     "output_type": "error",
     "traceback": [
      "\u001b[0;31m---------------------------------------------------------------------------\u001b[0m",
      "\u001b[0;31mNameError\u001b[0m                                 Traceback (most recent call last)",
      "Cell \u001b[0;32mIn[7], line 7\u001b[0m\n\u001b[1;32m      4\u001b[0m ymin, ymax \u001b[38;5;241m=\u001b[39m Xm[:,\u001b[38;5;241m1\u001b[39m]\u001b[38;5;241m.\u001b[39mmin(), Xm[:,\u001b[38;5;241m1\u001b[39m]\u001b[38;5;241m.\u001b[39mmax()\n\u001b[1;32m      6\u001b[0m x_, y_ \u001b[38;5;241m=\u001b[39m np\u001b[38;5;241m.\u001b[39mmgrid[xmin:xmax:\u001b[38;5;241m.1\u001b[39m, ymin:ymax:\u001b[38;5;241m.1\u001b[39m]\n\u001b[0;32m----> 7\u001b[0m \u001b[38;5;28;01mfor\u001b[39;00m mean, cl \u001b[38;5;129;01min\u001b[39;00m \u001b[38;5;28mzip\u001b[39m(\u001b[43mlst_X_means\u001b[49m, classes):\n\u001b[1;32m      8\u001b[0m     rv \u001b[38;5;241m=\u001b[39m multivariate_normal(mean, X_cov)\n\u001b[1;32m      9\u001b[0m     data \u001b[38;5;241m=\u001b[39m np\u001b[38;5;241m.\u001b[39mdstack((x_, y_))\n",
      "\u001b[0;31mNameError\u001b[0m: name 'lst_X_means' is not defined"
     ]
    }
   ],
   "source": [
    "from scipy.stats import multivariate_normal\n",
    "\n",
    "xmin, xmax = Xm[:,0].min(), Xm[:,0].max()\n",
    "ymin, ymax = Xm[:,1].min(), Xm[:,1].max()\n",
    "\n",
    "x_, y_ = np.mgrid[xmin:xmax:.1, ymin:ymax:.1]\n",
    "for mean, cl in zip(lst_X_means, classes):\n",
    "    rv = multivariate_normal(mean, X_cov)\n",
    "    data = np.dstack((x_, y_))\n",
    "    z = rv.pdf(data)\n",
    "    plt.contour(x_, y_, z, colors = \"black\")\n",
    "    \n",
    "    data = df_train.filter(pl.col(target) == cl).select(features)\n",
    "    data = data.to_numpy()\n",
    "    plt.scatter(data[:,0], data[:,1], label = cl)\n",
    "plt.show()"
   ]
  },
  {
   "cell_type": "markdown",
   "id": "ae1e7485",
   "metadata": {},
   "source": [
    "**Question 2**\n",
    "\n",
    "Write a function `compute_log_posterior`, computing the log posterior of a data point, given the model."
   ]
  },
  {
   "cell_type": "code",
   "execution_count": null,
   "id": "f0eaee3b",
   "metadata": {},
   "outputs": [],
   "source": []
  },
  {
   "cell_type": "markdown",
   "id": "2016e090",
   "metadata": {},
   "source": [
    "Plot of the decision boundary."
   ]
  },
  {
   "cell_type": "code",
   "execution_count": null,
   "id": "d66ce253",
   "metadata": {},
   "outputs": [],
   "source": [
    "lst_prior = [k / n for k in lst_n]\n",
    "\n",
    "x_, y_ = np.mgrid[xmin:xmax:.1, ymin:ymax:.1]\n",
    "data = np.dstack((x_, y_))\n",
    "z = np.zeros([data.shape[0], data.shape[1]])\n",
    "for i, zdata in enumerate(data):\n",
    "    for j, dpoint in enumerate(zdata):\n",
    "        z[i, j] = np.argmax(compute_log_posterior(dpoint, lst_X_means, [X_cov] * K, lst_prior))\n",
    "plt.contourf(x_, y_, z)\n",
    "\n",
    "for cl in classes:\n",
    "    data = df_train.filter(pl.col(target) == cl).select(features)\n",
    "    data = data.to_numpy()\n",
    "    plt.scatter(data[:,0], data[:,1], label = cl)\n",
    "\n",
    "plt.show()"
   ]
  },
  {
   "cell_type": "markdown",
   "id": "ad2f3c4d",
   "metadata": {},
   "source": [
    "**Question 3**\n",
    "\n",
    "Write a function computing the accuracy (or score) of a dataset, given the parameters of the LDA."
   ]
  },
  {
   "cell_type": "code",
   "execution_count": null,
   "id": "10bcff91",
   "metadata": {},
   "outputs": [],
   "source": []
  },
  {
   "cell_type": "markdown",
   "id": "373776ca",
   "metadata": {},
   "source": [
    "Computation of the train/test scores."
   ]
  },
  {
   "cell_type": "code",
   "execution_count": null,
   "id": "35c984bf",
   "metadata": {},
   "outputs": [],
   "source": [
    "classif_score_train = compute_score(Xm_train, y_train, lst_X_means, [X_cov] * K, lst_prior)\n",
    "print(f\"Train score: {classif_score_train:.2f}\")\n",
    "\n",
    "classif_score_test = compute_score(Xm_test, y_test, lst_X_means, [X_cov] * K, lst_prior)\n",
    "print(f\"Test score: {classif_score_test:.2f}\")"
   ]
  },
  {
   "cell_type": "markdown",
   "id": "fa634473",
   "metadata": {},
   "source": [
    "### Many features (large)"
   ]
  },
  {
   "cell_type": "markdown",
   "id": "0018fc12",
   "metadata": {},
   "source": [
    "Select all the features."
   ]
  },
  {
   "cell_type": "code",
   "execution_count": null,
   "id": "d303ef16",
   "metadata": {},
   "outputs": [],
   "source": [
    "Xl = df.drop(target)\n",
    "Xl_train = df_train.drop(target).to_numpy()\n",
    "Xl_test = df_test.drop(target).to_numpy()\n",
    "\n",
    "features = Xl.columns\n",
    "Xl = Xl.to_numpy()"
   ]
  },
  {
   "cell_type": "markdown",
   "id": "88059900",
   "metadata": {},
   "source": [
    "**Question 4**\n",
    "\n",
    "Compute the parameters of the LDA model and compute the train/test scores."
   ]
  },
  {
   "cell_type": "code",
   "execution_count": null,
   "id": "c2e6c379",
   "metadata": {},
   "outputs": [],
   "source": []
  },
  {
   "cell_type": "code",
   "execution_count": null,
   "id": "55980c97",
   "metadata": {},
   "outputs": [],
   "source": []
  },
  {
   "cell_type": "markdown",
   "id": "fe532f14",
   "metadata": {},
   "source": [
    "### Quadratic Discriminant Analysis (QDA)"
   ]
  },
  {
   "cell_type": "markdown",
   "id": "08df75a4",
   "metadata": {},
   "source": [
    "**Quesion 5**\n",
    "\n",
    "Compute the parameters of the QDA and compute the train/test scores."
   ]
  },
  {
   "cell_type": "code",
   "execution_count": null,
   "id": "b393c926",
   "metadata": {},
   "outputs": [],
   "source": []
  },
  {
   "cell_type": "code",
   "execution_count": null,
   "id": "a3c04901",
   "metadata": {},
   "outputs": [],
   "source": []
  },
  {
   "cell_type": "markdown",
   "id": "0755f4eb",
   "metadata": {},
   "source": [
    "## With sklearn: LDA and QDA"
   ]
  },
  {
   "cell_type": "code",
   "execution_count": null,
   "id": "6b8aa674",
   "metadata": {},
   "outputs": [],
   "source": [
    "from sklearn.discriminant_analysis import LinearDiscriminantAnalysis, QuadraticDiscriminantAnalysis\n",
    "from sklearn.model_selection import cross_val_score"
   ]
  },
  {
   "cell_type": "markdown",
   "id": "d2f31b85",
   "metadata": {},
   "source": [
    "**Question 6**\n",
    "\n",
    "Perform LDA and QDA using sklearn. Compute the cross-validation scores. Compare with knns."
   ]
  },
  {
   "cell_type": "code",
   "execution_count": null,
   "id": "4b28bc6b",
   "metadata": {},
   "outputs": [],
   "source": []
  },
  {
   "cell_type": "code",
   "execution_count": null,
   "id": "7a224a21",
   "metadata": {
    "scrolled": true
   },
   "outputs": [],
   "source": []
  },
  {
   "cell_type": "code",
   "execution_count": null,
   "id": "a7691e8e",
   "metadata": {},
   "outputs": [],
   "source": []
  },
  {
   "cell_type": "code",
   "execution_count": null,
   "id": "cff4609c",
   "metadata": {},
   "outputs": [],
   "source": []
  }
 ],
 "metadata": {
  "kernelspec": {
   "display_name": "Python 3 (ipykernel)",
   "language": "python",
   "name": "python3"
  },
  "language_info": {
   "codemirror_mode": {
    "name": "ipython",
    "version": 3
   },
   "file_extension": ".py",
   "mimetype": "text/x-python",
   "name": "python",
   "nbconvert_exporter": "python",
   "pygments_lexer": "ipython3",
   "version": "3.12.3"
  }
 },
 "nbformat": 4,
 "nbformat_minor": 5
}
